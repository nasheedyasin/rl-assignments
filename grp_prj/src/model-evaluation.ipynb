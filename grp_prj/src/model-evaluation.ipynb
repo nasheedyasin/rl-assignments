{
 "cells": [
  {
   "attachments": {},
   "cell_type": "markdown",
   "metadata": {},
   "source": [
    "## Prepare the data"
   ]
  },
  {
   "attachments": {},
   "cell_type": "markdown",
   "metadata": {},
   "source": [
    "### Setup the tokenizer"
   ]
  },
  {
   "cell_type": "code",
   "execution_count": null,
   "metadata": {},
   "outputs": [],
   "source": [
    "from transformers import AutoTokenizer\n",
    "\n",
    "# Ensure the order\n",
    "SPECIAL_TOKENS = [\"<persuader>\", \"<persuadee>\"]\n",
    "MPATH = \"microsoft/DialoGPT-medium\"\n",
    "\n",
    "tokenizer = AutoTokenizer.from_pretrained(MPATH)\n",
    "tokenizer.add_special_tokens({'additional_special_tokens': SPECIAL_TOKENS})\n",
    "tokenizer.pad_token = tokenizer.eos_token"
   ]
  },
  {
   "attachments": {},
   "cell_type": "markdown",
   "metadata": {},
   "source": [
    "### Setup the data modules"
   ]
  },
  {
   "cell_type": "code",
   "execution_count": null,
   "metadata": {},
   "outputs": [],
   "source": [
    "from datautils import DialogDataModule, DialogBatcher\n",
    "\n",
    "\n",
    "DPATH = r\"..\\data\\persuasionforgood_corpus\"\n",
    "\n",
    "is_pursuader = True\n",
    "batcher = DialogBatcher(tokenizer)\n",
    "dm = DialogDataModule(\n",
    "    DPATH,\n",
    "    batcher=batcher,\n",
    "    batch_size=1,\n",
    "    split_data=False,\n",
    "    purpose_text=\"Convince people to donate to charity.\",\n",
    "    is_pursuader=is_pursuader\n",
    ")"
   ]
  },
  {
   "attachments": {},
   "cell_type": "markdown",
   "metadata": {},
   "source": [
    "# Prepare the model"
   ]
  },
  {
   "cell_type": "code",
   "execution_count": null,
   "metadata": {},
   "outputs": [],
   "source": [
    "from modelling import DialogAgent\n",
    "\n",
    "\n",
    "ROLE = \"persuader\" if is_pursuader else \"persuadee\"\n",
    "SAVE_PATH = \"\"\n",
    "CKPT = f\"..\\models\\base\\persuader\\baseagent-persuader-epoch=2-val_loss=2.44.ckpt\"\n",
    "\n",
    "model = DialogAgent.load_from_checkpoint(CKPT)\n",
    "print(\"Loaded checkpoint\")"
   ]
  },
  {
   "attachments": {},
   "cell_type": "markdown",
   "metadata": {},
   "source": [
    "## Manual Trials"
   ]
  },
  {
   "cell_type": "code",
   "execution_count": null,
   "metadata": {},
   "outputs": [],
   "source": [
    "import torch\n",
    "\n",
    "purpose_text = \"Convince people to donate to charity. <persuader>Hi <persuadee>\"\n",
    "\n",
    "for step in range(5):\n",
    "    # encode the new user input, add the eos_token and return a tensor in Pytorch\n",
    "    new_user_input_ids = tokenizer.encode(purpose_text + input(\">> User\") + \"<persuader>\", return_tensors='pt')\n",
    "\n",
    "    # append the new user input tokens to the chat history\n",
    "    bot_input_ids = torch.cat([chat_history_ids, new_user_input_ids], dim=-1) if step > 0 else new_user_input_ids\n",
    "\n",
    "    # generated a response while limiting the total chat history to 1000 tokens, \n",
    "    chat_history_ids = model.clm.generate(bot_input_ids, max_length=1000, pad_token_id=tokenizer.eos_token_id)\n",
    "\n",
    "    # pretty print last ouput tokens from bot\n",
    "    print(\"DialoGPT: {}\".format(tokenizer.decode(chat_history_ids[:, bot_input_ids.shape[-1]:][0], skip_special_tokens=True)))"
   ]
  }
 ],
 "metadata": {
  "language_info": {
   "name": "python"
  },
  "orig_nbformat": 4
 },
 "nbformat": 4,
 "nbformat_minor": 2
}
