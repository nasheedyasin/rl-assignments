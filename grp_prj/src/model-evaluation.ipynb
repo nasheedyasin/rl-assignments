{
 "cells": [
  {
   "attachments": {},
   "cell_type": "markdown",
   "metadata": {},
   "source": [
    "## Prepare the data"
   ]
  },
  {
   "attachments": {},
   "cell_type": "markdown",
   "metadata": {},
   "source": [
    "### Setup the tokenizer"
   ]
  },
  {
   "cell_type": "code",
   "execution_count": null,
   "metadata": {},
   "outputs": [],
   "source": [
    "from transformers import AutoTokenizer\n",
    "\n",
    "# Ensure the order\n",
    "SPECIAL_TOKENS = [\"<persuader>\", \"<persuadee>\"]\n",
    "MPATH = \"microsoft/DialoGPT-medium\"\n",
    "\n",
    "tokenizer = AutoTokenizer.from_pretrained(MPATH)\n",
    "tokenizer.add_special_tokens({'additional_special_tokens': SPECIAL_TOKENS})\n",
    "tokenizer.pad_token = tokenizer.eos_token"
   ]
  },
  {
   "attachments": {},
   "cell_type": "markdown",
   "metadata": {},
   "source": [
    "### Setup the data modules"
   ]
  },
  {
   "cell_type": "code",
   "execution_count": null,
   "metadata": {},
   "outputs": [],
   "source": [
    "from datautils import DialogDataModule, DialogBatcher\n",
    "\n",
    "\n",
    "DPATH = r\"..\\data\\persuasionforgood_corpus\"\n",
    "\n",
    "is_pursuader = True\n",
    "batcher = DialogBatcher(tokenizer)\n",
    "dm = DialogDataModule(\n",
    "    DPATH,\n",
    "    batcher=batcher,\n",
    "    batch_size=1,\n",
    "    split_data=False,\n",
    "    purpose_text=\"Convince people to donate to charity.\",\n",
    "    is_pursuader=is_pursuader\n",
    ")"
   ]
  },
  {
   "attachments": {},
   "cell_type": "markdown",
   "metadata": {},
   "source": [
    "# Prepare the model"
   ]
  },
  {
   "cell_type": "code",
   "execution_count": 1,
   "metadata": {},
   "outputs": [
    {
     "name": "stderr",
     "output_type": "stream",
     "text": [
      "d:\\envs\\expts\\Lib\\site-packages\\tqdm\\auto.py:21: TqdmWarning: IProgress not found. Please update jupyter and ipywidgets. See https://ipywidgets.readthedocs.io/en/stable/user_install.html\n",
      "  from .autonotebook import tqdm as notebook_tqdm\n"
     ]
    },
    {
     "ename": "NameError",
     "evalue": "name 'is_pursuader' is not defined",
     "output_type": "error",
     "traceback": [
      "\u001b[1;31m---------------------------------------------------------------------------\u001b[0m",
      "\u001b[1;31mNameError\u001b[0m                                 Traceback (most recent call last)",
      "Cell \u001b[1;32mIn[1], line 4\u001b[0m\n\u001b[0;32m      1\u001b[0m \u001b[39mfrom\u001b[39;00m \u001b[39mmodelling\u001b[39;00m \u001b[39mimport\u001b[39;00m DialogAgent\n\u001b[1;32m----> 4\u001b[0m ROLE \u001b[39m=\u001b[39m \u001b[39m\"\u001b[39m\u001b[39mpersuader\u001b[39m\u001b[39m\"\u001b[39m \u001b[39mif\u001b[39;00m is_pursuader \u001b[39melse\u001b[39;00m \u001b[39m\"\u001b[39m\u001b[39mpersuadee\u001b[39m\u001b[39m\"\u001b[39m\n\u001b[0;32m      5\u001b[0m SAVE_PATH \u001b[39m=\u001b[39m \u001b[39m\"\u001b[39m\u001b[39m\"\u001b[39m\n\u001b[0;32m      6\u001b[0m CKPT \u001b[39m=\u001b[39m \u001b[39mf\u001b[39m\u001b[39m\"\u001b[39m\u001b[39m..\u001b[39m\u001b[39m\\\u001b[39m\u001b[39mmodels\u001b[39m\u001b[39m\\b\u001b[39;00m\u001b[39mase\u001b[39m\u001b[39m\\\u001b[39m\u001b[39mpersuader\u001b[39m\u001b[39m\\b\u001b[39;00m\u001b[39maseagent-persuader-epoch=2-val_loss=2.44.ckpt\u001b[39m\u001b[39m\"\u001b[39m\n",
      "\u001b[1;31mNameError\u001b[0m: name 'is_pursuader' is not defined"
     ]
    }
   ],
   "source": [
    "from modelling import DialogAgent\n",
    "\n",
    "\n",
    "is_pursuader = True\n",
    "ROLE = \"persuader\" if is_pursuader else \"persuadee\"\n",
    "SAVE_PATH = \"\"\n",
    "CKPT = f\"..\\models\\base\\persuader\\baseagent-persuader-epoch=2-val_loss=2.44.ckpt\"\n",
    "\n",
    "model = DialogAgent.load_from_checkpoint(CKPT)\n",
    "print(\"Loaded checkpoint\")"
   ]
  },
  {
   "attachments": {},
   "cell_type": "markdown",
   "metadata": {},
   "source": [
    "## Manual Trials"
   ]
  },
  {
   "cell_type": "code",
   "execution_count": null,
   "metadata": {},
   "outputs": [],
   "source": [
    "import torch\n",
    "\n",
    "purpose_text = \"Convince people to donate to charity. <persuader>Hi <persuadee>\"\n",
    "\n",
    "for step in range(5):\n",
    "    # encode the new user input, add the eos_token and return a tensor in Pytorch\n",
    "    new_user_input_ids = tokenizer.encode(purpose_text + input(\">> User\") + \"<persuader>\", return_tensors='pt')\n",
    "\n",
    "    # append the new user input tokens to the chat history\n",
    "    bot_input_ids = torch.cat([chat_history_ids, new_user_input_ids], dim=-1) if step > 0 else new_user_input_ids\n",
    "\n",
    "    # generated a response while limiting the total chat history to 1000 tokens, \n",
    "    chat_history_ids = model.clm.generate(bot_input_ids, max_length=1000, pad_token_id=tokenizer.eos_token_id)\n",
    "\n",
    "    # pretty print last ouput tokens from bot\n",
    "    print(\"DialoGPT: {}\".format(tokenizer.decode(chat_history_ids[:, bot_input_ids.shape[-1]:][0], skip_special_tokens=True)))"
   ]
  }
 ],
 "metadata": {
  "kernelspec": {
   "display_name": "expts",
   "language": "python",
   "name": "python3"
  },
  "language_info": {
   "codemirror_mode": {
    "name": "ipython",
    "version": 3
   },
   "file_extension": ".py",
   "mimetype": "text/x-python",
   "name": "python",
   "nbconvert_exporter": "python",
   "pygments_lexer": "ipython3",
   "version": "3.11.2"
  },
  "orig_nbformat": 4
 },
 "nbformat": 4,
 "nbformat_minor": 2
}
