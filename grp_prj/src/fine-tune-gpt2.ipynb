{
 "cells": [
  {
   "attachments": {},
   "cell_type": "markdown",
   "metadata": {},
   "source": [
    "## Prepare the data"
   ]
  },
  {
   "attachments": {},
   "cell_type": "markdown",
   "metadata": {},
   "source": [
    "### Setup the tokenizer"
   ]
  },
  {
   "cell_type": "code",
   "execution_count": 3,
   "metadata": {},
   "outputs": [
    {
     "name": "stderr",
     "output_type": "stream",
     "text": [
      "Downloading: 100%|██████████| 26.0/26.0 [00:00<00:00, 8.68kB/s]\n",
      "c:\\ProgramData\\Miniconda3\\envs\\expt\\lib\\site-packages\\huggingface_hub\\file_download.py:123: UserWarning: `huggingface_hub` cache-system uses symlinks by default to efficiently store duplicated files but your machine does not support them in C:\\hf-models. Caching files will still work but in a degraded version that might require more space on your disk. This warning can be disabled by setting the `HF_HUB_DISABLE_SYMLINKS_WARNING` environment variable. For more details, see https://huggingface.co/docs/huggingface_hub/how-to-cache#limitations.\n",
      "To support symlinks on Windows, you either need to activate Developer Mode or to run Python as an administrator. In order to see activate developer mode, see this article: https://docs.microsoft.com/en-us/windows/apps/get-started/enable-your-device-for-development\n",
      "  warnings.warn(message)\n",
      "Downloading: 100%|██████████| 642/642 [00:00<00:00, 643kB/s]\n",
      "Downloading: 100%|██████████| 1.04M/1.04M [00:00<00:00, 5.01MB/s]\n",
      "Downloading: 100%|██████████| 456k/456k [00:00<00:00, 3.83MB/s]\n"
     ]
    }
   ],
   "source": [
    "from transformers import AutoTokenizer\n",
    "\n",
    "# Ensure the order\n",
    "SPECIAL_TOKENS = [\"<persuader>\", \"<persuadee>\"]\n",
    "MPATH = \"microsoft/DialoGPT-medium\"\n",
    "\n",
    "tokenizer = AutoTokenizer.from_pretrained(MPATH)\n",
    "tokenizer.add_special_tokens({'additional_special_tokens': SPECIAL_TOKENS})\n",
    "tokenizer.pad_token = tokenizer.eos_token"
   ]
  },
  {
   "attachments": {},
   "cell_type": "markdown",
   "metadata": {},
   "source": [
    "### Setup the data modules"
   ]
  },
  {
   "cell_type": "code",
   "execution_count": 4,
   "metadata": {},
   "outputs": [],
   "source": [
    "from datautils import DialogDataModule, DialogBatcher\n",
    "\n",
    "\n",
    "DPATH = r\"..\\data\\persuasionforgood_corpus\"\n",
    "\n",
    "is_pursuader = True\n",
    "batcher = DialogBatcher(tokenizer, \"Convince people to donate to charity.\", is_pursuader=is_pursuader)\n",
    "dm = DialogDataModule(DPATH, batcher=batcher, batch_size=2)"
   ]
  },
  {
   "attachments": {},
   "cell_type": "markdown",
   "metadata": {},
   "source": [
    "# Prepare the model"
   ]
  },
  {
   "cell_type": "code",
   "execution_count": 6,
   "metadata": {},
   "outputs": [
    {
     "name": "stderr",
     "output_type": "stream",
     "text": [
      "Downloading: 100%|██████████| 863M/863M [01:38<00:00, 8.79MB/s] \n"
     ]
    },
    {
     "name": "stdout",
     "output_type": "stream",
     "text": [
      "Loaded fresh model\n"
     ]
    }
   ],
   "source": [
    "from modelling import DialogAgent\n",
    "\n",
    "\n",
    "ROLE = \"persuader\" if is_pursuader else \"persuadee\"\n",
    "SAVE_PATH = f\"../models/base/{ROLE}\"\n",
    "CKPT = \"\"\n",
    "\n",
    "model = DialogAgent(\n",
    "    MPATH,\n",
    "    embedding_size=len(tokenizer)\n",
    ")\n",
    "print(\"Loaded fresh model\")"
   ]
  },
  {
   "attachments": {},
   "cell_type": "markdown",
   "metadata": {},
   "source": [
    "### Setup Callbacks"
   ]
  },
  {
   "cell_type": "code",
   "execution_count": null,
   "metadata": {},
   "outputs": [],
   "source": [
    "from pytorch_lightning.callbacks import(\n",
    "    EarlyStopping,\n",
    "    ModelCheckpoint,\n",
    "    RichModelSummary\n",
    ")\n",
    "\n",
    "checkpoint_callback = ModelCheckpoint(\n",
    "    SAVE_PATH,\n",
    "    filename=f'baseagent-{ROLE}-{{epoch}}-{{val_loss:.2f}}',\n",
    "    monitor='val_soft_loss',\n",
    "    save_weights_only=True,\n",
    ")\n",
    "early_stop_callback = EarlyStopping(\n",
    "    monitor=\"val_loss\",\n",
    "    min_delta=1e-4, patience=3,\n",
    "    verbose=False,\n",
    "    mode=\"min\"\n",
    ")"
   ]
  },
  {
   "attachments": {},
   "cell_type": "markdown",
   "metadata": {},
   "source": [
    "# Train the model"
   ]
  },
  {
   "cell_type": "code",
   "execution_count": null,
   "metadata": {},
   "outputs": [],
   "source": [
    "from pytorch_lightning import Trainer, seed_everything\n",
    "\n",
    "\n",
    "seed_everything(42, workers=True)\n",
    "\n",
    "trainer = Trainer(\n",
    "    max_epochs=-1,\n",
    "    deterministic=True,\n",
    "    accumulate_grad_batches=4,\n",
    "    callbacks=[checkpoint_callback, early_stop_callback, RichModelSummary()],\n",
    "    accelerator='gpu',\n",
    "    log_every_n_steps=16\n",
    ")\n",
    "\n",
    "trainer.fit(model, dm)"
   ]
  }
 ],
 "metadata": {
  "kernelspec": {
   "display_name": "expt",
   "language": "python",
   "name": "python3"
  },
  "language_info": {
   "codemirror_mode": {
    "name": "ipython",
    "version": 3
   },
   "file_extension": ".py",
   "mimetype": "text/x-python",
   "name": "python",
   "nbconvert_exporter": "python",
   "pygments_lexer": "ipython3",
   "version": "3.8.16"
  },
  "orig_nbformat": 4
 },
 "nbformat": 4,
 "nbformat_minor": 2
}
