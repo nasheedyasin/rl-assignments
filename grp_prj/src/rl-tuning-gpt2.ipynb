{
 "cells": [
  {
   "attachments": {},
   "cell_type": "markdown",
   "metadata": {},
   "source": [
    "## Environment Setup"
   ]
  },
  {
   "attachments": {},
   "cell_type": "markdown",
   "metadata": {},
   "source": [
    "### Rewards Module"
   ]
  },
  {
   "cell_type": "code",
   "execution_count": 1,
   "metadata": {},
   "outputs": [],
   "source": [
    "from transformers import AutoTokenizer, AutoModelForSequenceClassification\n",
    "from rewards import PersuasionRewards\n",
    "\n",
    "rw_tokenizer = AutoTokenizer.from_pretrained('nasheed/rl-grp-prj-per-cls')\n",
    "\n",
    "emo_model = AutoModelForSequenceClassification.from_pretrained('nasheed/rl-grp-prj-per-cls')\n",
    "per_model = AutoModelForSequenceClassification.from_pretrained('cardiffnlp/twitter-roberta-base-emotion')\n",
    "\n",
    "reward_module = PersuasionRewards(.1, .1, .55, .25, tokenizer=rw_tokenizer, emotion_cls=emo_model, persuasion_cls=per_model)"
   ]
  },
  {
   "cell_type": "code",
   "execution_count": 2,
   "metadata": {},
   "outputs": [],
   "source": [
    "import torch\n",
    "\n",
    "if torch.cuda.is_available(): reward_module.cuda()"
   ]
  },
  {
   "attachments": {},
   "cell_type": "markdown",
   "metadata": {},
   "source": [
    "### Human Proxy"
   ]
  },
  {
   "cell_type": "code",
   "execution_count": 3,
   "metadata": {},
   "outputs": [],
   "source": [
    "from transformers import AutoTokenizer, AutoModelForCausalLM\n",
    "\n",
    "checkpoint = \"nasheed/rl-grp-prj-gpt2-baseagent\"\n",
    "hp_tokenizer = AutoTokenizer.from_pretrained(checkpoint)\n",
    "hp_tokenizer.padding_side = 'left'\n",
    "human_proxy = AutoModelForCausalLM.from_pretrained(checkpoint).to(reward_module.device)"
   ]
  },
  {
   "attachments": {},
   "cell_type": "markdown",
   "metadata": {},
   "source": [
    "### Test Environment"
   ]
  },
  {
   "cell_type": "code",
   "execution_count": 5,
   "metadata": {},
   "outputs": [],
   "source": [
    "from tqdm import tqdm\n",
    "from typing import List\n",
    "from convokit import Corpus\n",
    "from itertools import count\n",
    "\n",
    "from environment import PersuasionEnvironment\n",
    "\n",
    "\n",
    "PURPOSE_TEXT = \"Convince people to donate to charities.\"\n",
    "corpus = Corpus(filename=r\"..\\data\\persuasionforgood_corpus\")\n",
    "\n",
    "episode_avg_rewards: List[float] = []\n",
    "episode_durations: List[int] = []\n",
    "for conv in tqdm(corpus.iter_conversations(), desc=\"Establishing Gold Reward Dynamic\", total=1017):\n",
    "    env = PersuasionEnvironment(conv, human_proxy, hp_tokenizer, reward_module, PURPOSE_TEXT, render_mode='human')\n",
    "    state, _ = env.reset()\n",
    "\n",
    "    cumulative_reward = 0\n",
    "    for step in count():\n",
    "        _, reward, terminated, truncated, _ = env.step(sanity_test_mode=True)\n",
    "        cumulative_reward += reward\n",
    "\n",
    "        if terminated or truncated: break\n",
    "\n",
    "    # Calculate per step avg\n",
    "    avg_step_reward= cumulative_reward / (step+1)\n",
    "    episode_avg_rewards.append(avg_step_reward)\n",
    "    episode_durations.append(step+1)\n"
   ]
  },
  {
   "attachments": {},
   "cell_type": "markdown",
   "metadata": {},
   "source": [
    "### Plot the Expert Rewards Dynamic"
   ]
  },
  {
   "cell_type": "code",
   "execution_count": null,
   "metadata": {},
   "outputs": [],
   "source": [
    "import matplotlib.pyplot as plt\n",
    "\n",
    "plt.rcParams[\"figure.figsize\"] = (30,14)\n",
    "plt.rcParams[\"font.size\"] = 22\n",
    "\n",
    "fig, (ax1, ax2) = plt.subplots(1, 2)\n",
    "\n",
    "ax1.set_xlabel('Expert Conversations')\n",
    "ax1.set_ylabel('Running Duration (Turns)')\n",
    "ax1.plot(episode_durations, linewidth=6, label='Per Episode', color='#0077b6')\n",
    "ax1.legend()\n",
    "ax1.grid(True)\n",
    "\n",
    "ax2.set_xlabel('Expert Conversations')\n",
    "ax2.set_ylabel('Epiosde Avg Reward (reward/turn)')\n",
    "ax2.plot(episode_avg_rewards, linewidth=6, label='Running Average', color='#420c09')\n",
    "ax2.legend()\n",
    "ax2.grid(True)"
   ]
  }
 ],
 "metadata": {
  "kernelspec": {
   "display_name": "expts",
   "language": "python",
   "name": "python3"
  },
  "language_info": {
   "codemirror_mode": {
    "name": "ipython",
    "version": 3
   },
   "file_extension": ".py",
   "mimetype": "text/x-python",
   "name": "python",
   "nbconvert_exporter": "python",
   "pygments_lexer": "ipython3",
   "version": "3.8.16"
  },
  "orig_nbformat": 4
 },
 "nbformat": 4,
 "nbformat_minor": 2
}
