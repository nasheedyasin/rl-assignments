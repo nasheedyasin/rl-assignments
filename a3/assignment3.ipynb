{
 "cells": [
  {
   "attachments": {},
   "cell_type": "markdown",
   "metadata": {},
   "source": [
    "## Initializing Stuff "
   ]
  },
  {
   "cell_type": "code",
   "execution_count": 1,
   "metadata": {},
   "outputs": [],
   "source": [
    "import numpy as np\n",
    "import pandas as pd\n",
    "import gymnasium as gym\n",
    "\n",
    "import torch\n",
    "import torch.nn as nn\n",
    "import torch.optim as optim\n",
    "import torch.nn.functional as F\n",
    "\n",
    "from tqdm import tqdm"
   ]
  },
  {
   "attachments": {},
   "cell_type": "markdown",
   "metadata": {},
   "source": [
    "## Define the Actor and the  Critic Network"
   ]
  },
  {
   "cell_type": "code",
   "execution_count": 2,
   "metadata": {},
   "outputs": [],
   "source": [
    "class ActorCritic(nn.Module):\n",
    "    def __init__(self, num_inputs, num_actions, hidden_size, learning_rate=3e-4):\n",
    "        super(ActorCritic, self).__init__()\n",
    "\n",
    "        self.num_actions = num_actions\n",
    "        self.critic_linear1 = nn.Linear(num_inputs, hidden_size)\n",
    "        self.critic_linear2 = nn.Linear(hidden_size, 1)\n",
    "\n",
    "        self.actor_linear1 = nn.Linear(num_inputs, hidden_size)\n",
    "        self.actor_linear2 = nn.Linear(hidden_size, num_actions)\n",
    "    \n",
    "    def forward(self, state):\n",
    "        state = torch.from_numpy(state).float().unsqueeze(0)\n",
    "        value = F.relu(self.critic_linear1(state))\n",
    "        value = self.critic_linear2(value)\n",
    "        \n",
    "        policy_dist = F.relu(self.actor_linear1(state))\n",
    "        policy_dist = F.softmax(self.actor_linear2(policy_dist), dim=1)\n",
    "\n",
    "        return value, policy_dist"
   ]
  },
  {
   "attachments": {},
   "cell_type": "markdown",
   "metadata": {},
   "source": [
    "## Define the Q-Actor-Critic Trainer"
   ]
  },
  {
   "cell_type": "code",
   "execution_count": 3,
   "metadata": {},
   "outputs": [],
   "source": [
    "def train_q_actor_critic(\n",
    "    env: gym.Env,\n",
    "    actor_critic_net: ActorCritic,\n",
    "    optimizer: optim.Optimizer,\n",
    "    num_episodes: int = int(1e4),\n",
    "    max_steps_per_episode: int = 500,\n",
    "    disc_factor: float = .99,\n",
    "    quiet: bool = False,\n",
    "    cuda: bool = False\n",
    "):\n",
    "    num_outputs = env.action_space.n\n",
    "\n",
    "    all_lengths = []\n",
    "    average_lengths = []\n",
    "    all_rewards = []\n",
    "    average_rewards = []\n",
    "    entropy_term = 0\n",
    "\n",
    "    prog_bar = tqdm(range(num_episodes), desc='Training Episode', disable=quiet)\n",
    "    for episode in prog_bar:\n",
    "        log_probs = []\n",
    "        values = []\n",
    "        rewards = []\n",
    "\n",
    "        state, _ = env.reset()\n",
    "        for steps in range(max_steps_per_episode):\n",
    "            value, policy_dist = actor_critic_net(state)\n",
    "            value = value.detach().numpy()[0,0]\n",
    "            dist = policy_dist.detach().numpy() \n",
    "\n",
    "            action = np.random.choice(num_outputs, p=np.squeeze(dist))\n",
    "            log_prob = torch.log(policy_dist.squeeze(0)[action])\n",
    "            entropy = -np.sum(np.mean(dist) * np.log(dist))\n",
    "            new_state, reward, terminated, truncated, _ = env.step(action)\n",
    "\n",
    "            rewards.append(reward)\n",
    "            values.append(value)\n",
    "            log_probs.append(log_prob)\n",
    "            entropy_term += entropy\n",
    "            state = new_state\n",
    "            \n",
    "            if terminated or truncated or (steps == max_steps_per_episode-1):\n",
    "                Qval, _ = actor_critic_net(new_state)\n",
    "                Qval = Qval.detach().numpy()[0,0]\n",
    "                all_rewards.append(np.sum(rewards))\n",
    "                all_lengths.append(steps)\n",
    "                average_lengths.append(np.mean(all_lengths[-10:]))\n",
    "                average_rewards.append(np.mean(all_rewards[-10:]))\n",
    "                if episode % 10 == 0:\n",
    "                    prog_bar.set_postfix_str(\n",
    "                        f\"reward: {np.sum(rewards)}, len: {steps}, \"\\\n",
    "                        f\"average reward: {average_rewards[-1]} , average len: {average_lengths[-1]}\"\n",
    "                    )\n",
    "                break\n",
    "\n",
    "        # compute Q values\n",
    "        Qvals = np.zeros_like(values)\n",
    "        for t in reversed(range(len(rewards))):\n",
    "            Qval = rewards[t] + disc_factor * Qval\n",
    "            Qvals[t] = Qval\n",
    "  \n",
    "        #update actor critic\n",
    "        values = torch.FloatTensor(values)\n",
    "        Qvals = torch.FloatTensor(Qvals)\n",
    "        log_probs = torch.stack(log_probs)\n",
    "\n",
    "        actor_loss = (-log_probs * Qvals).mean()\n",
    "        critic_loss = 0.5 * (Qvals - values).pow(2).mean()\n",
    "        ac_loss = actor_loss + critic_loss + 0.001 * entropy_term\n",
    "\n",
    "        optimizer.zero_grad()\n",
    "        ac_loss.backward()\n",
    "        optimizer.step()\n"
   ]
  },
  {
   "attachments": {},
   "cell_type": "markdown",
   "metadata": {},
   "source": [
    "## Part 1: CartPole-v1"
   ]
  },
  {
   "attachments": {},
   "cell_type": "markdown",
   "metadata": {},
   "source": [
    "### Definitions"
   ]
  },
  {
   "cell_type": "code",
   "execution_count": 4,
   "metadata": {},
   "outputs": [],
   "source": [
    "# Hyperparams\n",
    "hidden_size = 16\n",
    "learning_rate = 1e-3\n",
    "\n",
    "cartenv = gym.make('CartPole-v1')\n",
    "\n",
    "num_inputs = cartenv.observation_space.shape[0]\n",
    "num_outputs = cartenv.action_space.n\n",
    "\n",
    "actor_critic = ActorCritic(num_inputs, num_outputs, hidden_size)\n",
    "optimizer = optim.Adam(actor_critic.parameters(), lr=learning_rate)"
   ]
  },
  {
   "attachments": {},
   "cell_type": "markdown",
   "metadata": {},
   "source": [
    "### Train the agent"
   ]
  },
  {
   "cell_type": "code",
   "execution_count": 5,
   "metadata": {},
   "outputs": [],
   "source": [
    "# train_q_actor_critic(cartenv, actor_critic, optimizer, int(2.048e3))"
   ]
  },
  {
   "cell_type": "code",
   "execution_count": 6,
   "metadata": {},
   "outputs": [],
   "source": [
    "# torch.save(actor_critic,'m44_saileshr_assignment3_part1_qac_cartpolev1.pth')"
   ]
  },
  {
   "attachments": {},
   "cell_type": "markdown",
   "metadata": {},
   "source": [
    "## Part 2.1: LunarLander-v2"
   ]
  },
  {
   "cell_type": "code",
   "execution_count": 7,
   "metadata": {},
   "outputs": [],
   "source": [
    "# Hyperparams\n",
    "hidden_size = 32\n",
    "learning_rate = 3e-3\n",
    "\n",
    "lunarenv = gym.make(\"LunarLander-v2\")\n",
    "\n",
    "num_inputs = lunarenv.observation_space.shape[0]\n",
    "num_outputs = lunarenv.action_space.n\n",
    "\n",
    "actor_critic = ActorCritic(num_inputs, num_outputs, hidden_size)\n",
    "optimizer = optim.Adam(actor_critic.parameters(), lr=learning_rate)"
   ]
  },
  {
   "cell_type": "code",
   "execution_count": 8,
   "metadata": {},
   "outputs": [
    {
     "name": "stderr",
     "output_type": "stream",
     "text": [
      "Training Episode: 100%|██████████| 10000/10000 [50:04<00:00,  3.33it/s, reward: 203.5905115511382, len: 409, average reward: 190.57264875405946 , average len: 649.3]   \n"
     ]
    }
   ],
   "source": [
    "train_q_actor_critic(lunarenv, actor_critic, optimizer, int(1e4), max_steps_per_episode=1000)"
   ]
  },
  {
   "cell_type": "code",
   "execution_count": 9,
   "metadata": {},
   "outputs": [],
   "source": [
    "# torch.save(actor_critic,'m44_saileshr_assignment3_part1_qac_lunarlander.pth')"
   ]
  }
 ],
 "metadata": {
  "kernelspec": {
   "display_name": "expt",
   "language": "python",
   "name": "python3"
  },
  "language_info": {
   "codemirror_mode": {
    "name": "ipython",
    "version": 3
   },
   "file_extension": ".py",
   "mimetype": "text/x-python",
   "name": "python",
   "nbconvert_exporter": "python",
   "pygments_lexer": "ipython3",
   "version": "3.8.16"
  },
  "orig_nbformat": 4
 },
 "nbformat": 4,
 "nbformat_minor": 2
}
