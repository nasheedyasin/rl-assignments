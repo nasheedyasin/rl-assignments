{
 "cells": [
  {
   "attachments": {},
   "cell_type": "markdown",
   "metadata": {},
   "source": [
    "## Initializing Stuff "
   ]
  },
  {
   "cell_type": "code",
   "execution_count": 9,
   "metadata": {},
   "outputs": [],
   "source": [
    "import numpy as np\n",
    "import pandas as pd\n",
    "import gymnasium as gym\n",
    "\n",
    "import torch\n",
    "import torch.nn as nn\n",
    "import torch.optim as optim\n",
    "import torch.nn.functional as F\n",
    "from torch.distributions import Categorical\n",
    "\n",
    "from tqdm import tqdm\n",
    "from itertools import count"
   ]
  },
  {
   "attachments": {},
   "cell_type": "markdown",
   "metadata": {},
   "source": [
    "## Define the Actor and the  Critic Network"
   ]
  },
  {
   "cell_type": "code",
   "execution_count": 10,
   "metadata": {},
   "outputs": [],
   "source": [
    "class Actor(nn.Module):\n",
    "    def __init__(self, num_inputs, num_actions, hidden_size):\n",
    "        super().__init__()\n",
    "        self.fc1 = nn.Linear(num_inputs, hidden_size)\n",
    "        self.fc2 = nn.Linear(hidden_size, num_actions)\n",
    "\n",
    "    def forward(self, state):\n",
    "        state = state.unsqueeze(0)\n",
    "        policy_dist = F.relu(self.fc1(state))\n",
    "        policy_dist = self.fc2(policy_dist)\n",
    "        return policy_dist\n",
    "\n",
    "    def act(self, state):\n",
    "        state = state.unsqueeze(0)\n",
    "        policy_logits = self.forward(state)\n",
    "        m = Categorical(logits=policy_logits)\n",
    "        action = m.sample()\n",
    "        return action.item(), m.log_prob(action)\n",
    "\n",
    "class Critic(nn.Module):\n",
    "    def __init__(self, num_inputs, hidden_size):\n",
    "        super().__init__()\n",
    "        self.fc1 = nn.Linear(num_inputs, hidden_size)\n",
    "        self.fc2 = nn.Linear(hidden_size, 1)\n",
    "\n",
    "    def forward(self, state):\n",
    "        state = state.unsqueeze(0)\n",
    "        value = F.relu(self.fc1(state))\n",
    "        value = self.fc2(value)\n",
    "        return value\n"
   ]
  },
  {
   "attachments": {},
   "cell_type": "markdown",
   "metadata": {},
   "source": [
    "## Define the Q-Actor-Critic Trainer"
   ]
  },
  {
   "cell_type": "code",
   "execution_count": 11,
   "metadata": {},
   "outputs": [],
   "source": [
    "def train_q_actor_critic(\n",
    "    env: gym.Env,\n",
    "    actor_net: Actor,\n",
    "    critic_net: Critic,\n",
    "    optimizer: optim.Optimizer,\n",
    "    num_episodes: int = int(1e4),\n",
    "    disc_factor: float = .99,\n",
    "    quiet: bool = False,\n",
    "    cuda: bool = False,\n",
    "    report_every_n_episodes: int = 10\n",
    "):\n",
    "    device = torch.device('cuda' if cuda else 'cpu')\n",
    "    actor_net.to(device)\n",
    "    critic_net.to(device)\n",
    "\n",
    "    all_lengths = []\n",
    "    average_lengths = []\n",
    "    all_rewards = []\n",
    "    average_rewards = []\n",
    "\n",
    "    prog_bar = tqdm(range(num_episodes), desc='Training Episode', disable=quiet)\n",
    "    for episode in prog_bar:\n",
    "        log_probs = []\n",
    "        values = []\n",
    "        rewards = []\n",
    "\n",
    "        state, _ = env.reset()\n",
    "        state = torch.from_numpy(state).float().to(device)\n",
    "        for steps in count():\n",
    "            value = critic_net(state)\n",
    "            action, log_prob = actor_net.act(state)\n",
    "\n",
    "            new_state, reward, terminated, truncated, _ = env.step(action)\n",
    "            new_state = torch.from_numpy(new_state).float().to(device)\n",
    "\n",
    "            rewards.append(reward)\n",
    "            values.append(value)\n",
    "            log_probs.append(log_prob)\n",
    "            state = new_state\n",
    "            \n",
    "            if terminated or truncated:\n",
    "                # Aggregating\n",
    "                rewards = torch.FloatTensor(rewards)\n",
    "                values = torch.stack(values).squeeze()\n",
    "                log_probs = torch.stack(log_probs).squeeze()\n",
    "\n",
    "                all_rewards.append(rewards.sum().item())\n",
    "                all_lengths.append(steps)\n",
    "                average_lengths.append(np.mean(all_lengths[-report_every_n_episodes:]))\n",
    "                average_rewards.append(np.mean(all_rewards[-report_every_n_episodes:]))\n",
    "                if episode % report_every_n_episodes == 0:\n",
    "                    prog_bar.set_postfix_str(\n",
    "                        f\"reward: {all_rewards[-1]}, len: {steps}, \"\\\n",
    "                        f\"{report_every_n_episodes} episode average reward: {average_rewards[-1]}, \"\\\n",
    "                        f\"{report_every_n_episodes} average len: {average_lengths[-1]}\"\n",
    "                    )\n",
    "                break\n",
    "\n",
    "        # Value of the last state is always 0\n",
    "        value_t_p_1 = 0\n",
    "        # Compute Q values for all the states in the trajectory\n",
    "        q_values = torch.zeros_like(values)\n",
    "        for t in reversed(range(len(rewards))):\n",
    "            q_value_t_p_1 = rewards[t] + disc_factor * value_t_p_1\n",
    "            q_values[t] = q_value_t_p_1\n",
    "            # The value for time step t+1\n",
    "            value_t_p_1 = values[t]\n",
    "\n",
    "\n",
    "        advantage = q_values - values\n",
    "        actor_loss = (-log_probs * advantage.detach()).mean()\n",
    "        criterion = nn.SmoothL1Loss()\n",
    "        critic_loss = criterion(values, q_values)\n",
    "        ac_loss = actor_loss + critic_loss\n",
    "\n",
    "        optimizer.zero_grad()\n",
    "        ac_loss.backward()\n",
    "        # In-place gradient clipping to prevent exploding gradients.\n",
    "        torch.nn.utils.clip_grad_value_(actor_net.parameters(), 10)\n",
    "        torch.nn.utils.clip_grad_value_(critic_net.parameters(), 10)\n",
    "        optimizer.step()\n",
    "\n",
    "    return average_lengths, average_rewards\n"
   ]
  },
  {
   "attachments": {},
   "cell_type": "markdown",
   "metadata": {},
   "source": [
    "### Agent Evaluation"
   ]
  },
  {
   "cell_type": "code",
   "execution_count": 12,
   "metadata": {},
   "outputs": [],
   "source": [
    "def eval_q_actor_critic(\n",
    "    env: gym.Env,\n",
    "    actor_net: Actor,\n",
    "    num_episodes: int = 100,\n",
    "    quiet: bool = False,\n",
    "    cuda: bool = False,\n",
    "    report_every_n_episodes: int = 10\n",
    "):\n",
    "    device = torch.device('cuda' if cuda else 'cpu')\n",
    "    actor_net.to(device)\n",
    "\n",
    "    all_lengths = []\n",
    "    average_lengths = []\n",
    "    all_rewards = []\n",
    "    average_rewards = []\n",
    "\n",
    "    prog_bar = tqdm(range(num_episodes), desc='Evaluation Episode', disable=quiet)\n",
    "    for episode in prog_bar:\n",
    "        rewards = []\n",
    "\n",
    "        state, _ = env.reset()\n",
    "        state = torch.from_numpy(state).float().to(device)\n",
    "        for steps in count():\n",
    "            with torch.no_grad():\n",
    "                action, _ = actor_net.act(state)\n",
    "\n",
    "                new_state, reward, terminated, truncated, _ = env.step(action)\n",
    "                new_state = torch.from_numpy(new_state).float().to(device)\n",
    "\n",
    "                rewards.append(reward)\n",
    "                state = new_state\n",
    "\n",
    "            if terminated or truncated:\n",
    "                # Aggregating\n",
    "                rewards = torch.FloatTensor(rewards)\n",
    "\n",
    "                all_rewards.append(rewards.sum().item())\n",
    "                all_lengths.append(steps)\n",
    "                average_lengths.append(np.mean(all_lengths[-report_every_n_episodes:]))\n",
    "                average_rewards.append(np.mean(all_rewards[-report_every_n_episodes:]))\n",
    "                if episode % report_every_n_episodes == 0:\n",
    "                    prog_bar.set_postfix_str(\n",
    "                        f\"reward: {all_rewards[-1]}, len: {steps}, \"\\\n",
    "                        f\"{report_every_n_episodes} episode average reward: {average_rewards[-1]}, \"\\\n",
    "                        f\"{report_every_n_episodes} average len: {average_lengths[-1]}\"\n",
    "                    )\n",
    "                break\n",
    "\n",
    "    return average_lengths, average_rewards\n",
    "            "
   ]
  },
  {
   "attachments": {},
   "cell_type": "markdown",
   "metadata": {},
   "source": [
    "## Part 1: CartPole-v1"
   ]
  },
  {
   "attachments": {},
   "cell_type": "markdown",
   "metadata": {},
   "source": [
    "### Definitions"
   ]
  },
  {
   "cell_type": "code",
   "execution_count": 13,
   "metadata": {},
   "outputs": [],
   "source": [
    "# Hyperparams\n",
    "hidden_size = 128\n",
    "learning_rate = 1e-3\n",
    "\n",
    "cartenv = gym.make('CartPole-v1')\n",
    "\n",
    "num_inputs = cartenv.observation_space.shape[0]\n",
    "num_outputs = cartenv.action_space.n\n",
    "\n",
    "actor = Actor(num_inputs, num_outputs, hidden_size)\n",
    "critic = Critic(num_inputs, hidden_size)\n",
    "\n",
    "params = list(actor.parameters()) + list(critic.parameters())\n",
    "optimizer = optim.AdamW(params, lr=learning_rate)"
   ]
  },
  {
   "attachments": {},
   "cell_type": "markdown",
   "metadata": {},
   "source": [
    "### Train the agent"
   ]
  },
  {
   "cell_type": "code",
   "execution_count": 14,
   "metadata": {},
   "outputs": [
    {
     "name": "stderr",
     "output_type": "stream",
     "text": [
      "Training Episode: 100%|██████████| 4096/4096 [10:42<00:00,  6.37it/s, reward: 500.0, len: 499, average reward: 429.2 , average len: 428.2]\n"
     ]
    }
   ],
   "source": [
    "avg_len, avg_rwd = train_q_actor_critic(cartenv, actor, critic, optimizer, int(4.096e3))"
   ]
  },
  {
   "attachments": {},
   "cell_type": "markdown",
   "metadata": {},
   "source": [
    "### Evaluate the agent"
   ]
  },
  {
   "cell_type": "code",
   "execution_count": 21,
   "metadata": {},
   "outputs": [
    {
     "name": "stderr",
     "output_type": "stream",
     "text": [
      "Evaluation Episode: 100%|██████████| 100/100 [00:15<00:00,  6.45it/s, reward: 500.0, len: 499, average reward: 396.4 , average len: 395.4]\n"
     ]
    }
   ],
   "source": [
    "eval_avg_len, eval_avg_rwd = eval_q_actor_critic(cartenv, actor)"
   ]
  },
  {
   "cell_type": "code",
   "execution_count": 22,
   "metadata": {},
   "outputs": [],
   "source": [
    "# torch.save(actor.state_dict(),'m44_saileshr_assignment3_a2c_actor_cartpolev1.pth')\n",
    "# torch.save(critic.state_dict(),'m44_saileshr_assignment3_a2c_critic_cartpolev1.pth')"
   ]
  },
  {
   "attachments": {},
   "cell_type": "markdown",
   "metadata": {},
   "source": [
    "## Part 2.1: LunarLander-v2"
   ]
  },
  {
   "attachments": {},
   "cell_type": "markdown",
   "metadata": {},
   "source": [
    "### Definitions"
   ]
  },
  {
   "cell_type": "code",
   "execution_count": null,
   "metadata": {},
   "outputs": [],
   "source": [
    "# Hyperparams\n",
    "hidden_size = 128\n",
    "learning_rate = 1e-3\n",
    "\n",
    "lunarenv = gym.make(\"LunarLander-v2\")\n",
    "\n",
    "num_inputs = lunarenv.observation_space.shape[0]\n",
    "num_outputs = lunarenv.action_space.n\n",
    "\n",
    "actor = Actor(num_inputs, num_outputs, hidden_size)\n",
    "critic = Critic(num_inputs, hidden_size)\n",
    "\n",
    "params = list(actor.parameters()) + list(critic.parameters())\n",
    "optimizer = optim.AdamW(params, lr=learning_rate)"
   ]
  },
  {
   "attachments": {},
   "cell_type": "markdown",
   "metadata": {},
   "source": [
    "### Train the agent"
   ]
  },
  {
   "cell_type": "code",
   "execution_count": null,
   "metadata": {},
   "outputs": [],
   "source": [
    "avg_len, avg_rwd = train_q_actor_critic(lunarenv, actor, critic, optimizer, int(1e4))"
   ]
  },
  {
   "attachments": {},
   "cell_type": "markdown",
   "metadata": {},
   "source": [
    "### Evaluate the agent"
   ]
  },
  {
   "cell_type": "code",
   "execution_count": null,
   "metadata": {},
   "outputs": [],
   "source": [
    "eval_avg_len, eval_avg_rwd = eval_q_actor_critic(lunarenv, actor)"
   ]
  },
  {
   "cell_type": "code",
   "execution_count": null,
   "metadata": {},
   "outputs": [],
   "source": [
    "# torch.save(actor,'m44_saileshr_assignment3_a2c_actor_lunarlander.pth')\n",
    "# torch.save(critic,'m44_saileshr_assignment3_a2c_critic_lunarlander.pth')"
   ]
  }
 ],
 "metadata": {
  "kernelspec": {
   "display_name": "expt",
   "language": "python",
   "name": "python3"
  },
  "language_info": {
   "codemirror_mode": {
    "name": "ipython",
    "version": 3
   },
   "file_extension": ".py",
   "mimetype": "text/x-python",
   "name": "python",
   "nbconvert_exporter": "python",
   "pygments_lexer": "ipython3",
   "version": "3.8.16"
  },
  "orig_nbformat": 4
 },
 "nbformat": 4,
 "nbformat_minor": 2
}
